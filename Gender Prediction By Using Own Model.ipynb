{
 "cells": [
  {
   "cell_type": "code",
   "execution_count": 6,
   "metadata": {},
   "outputs": [],
   "source": [
    "import os\n",
    "import cv2\n",
    "import numpy as np"
   ]
  },
  {
   "cell_type": "code",
   "execution_count": 4,
   "metadata": {},
   "outputs": [
    {
     "name": "stdout",
     "output_type": "stream",
     "text": [
      "150\n"
     ]
    }
   ],
   "source": [
    "\n",
    "img_name = os.listdir('D:/playlist/ML/gender_images/gender_images/female')\n",
    "print(len(img_name))"
   ]
  },
  {
   "cell_type": "code",
   "execution_count": 8,
   "metadata": {},
   "outputs": [],
   "source": [
    "X=[]\n",
    "y=[]\n",
    "\n",
    "img_name = os.listdir('D:/playlist/ML/gender_images/gender_images/female')\n",
    "\n",
    "for img in img_name:\n",
    "    gray = cv2.imread(f'D:/playlist/ML/gender_images/gender_images/female/{img}', cv2.IMREAD_GRAYSCALE)\n",
    "    gray = cv2.resize(gray, (90,90))    \n",
    "    row = gray.flatten()\n",
    "    X.append(row)\n",
    "    y.append('female')\n",
    "\n",
    "img_name = os.listdir('D:/playlist/ML/gender_images/gender_images/male')\n",
    "for img in img_name:\n",
    "    gray = cv2.imread(f'D:/playlist/ML/gender_images/gender_images/male/{img}', cv2.IMREAD_GRAYSCALE)\n",
    "    gray = cv2.resize(gray, (90,90))\n",
    "    row = gray.flatten()  # convert 2D array into 1D\n",
    "    X.append(row)\n",
    "    y.append('male')\n",
    "\n",
    "\n",
    "X_train = np.array(X)\n",
    "y_train = np.array(y)"
   ]
  },
  {
   "cell_type": "code",
   "execution_count": 10,
   "metadata": {},
   "outputs": [
    {
     "name": "stdout",
     "output_type": "stream",
     "text": [
      "(300, 8100)\n",
      "(300,)\n"
     ]
    }
   ],
   "source": [
    "print(X_train.shape)\n",
    "print(y_train.shape)"
   ]
  },
  {
   "cell_type": "code",
   "execution_count": 11,
   "metadata": {},
   "outputs": [],
   "source": [
    "# Here We have large number of dataset so it make take lot of time to cal.\n",
    "from sklearn.decomposition import PCA"
   ]
  },
  {
   "cell_type": "code",
   "execution_count": 13,
   "metadata": {},
   "outputs": [
    {
     "name": "stdout",
     "output_type": "stream",
     "text": [
      "(300, 230)\n"
     ]
    }
   ],
   "source": [
    "pca = PCA(.99)\n",
    "X_train_new = pca.fit_transform(X_train)\n",
    "print(X_train_new.shape)"
   ]
  },
  {
   "cell_type": "code",
   "execution_count": 14,
   "metadata": {},
   "outputs": [],
   "source": [
    "from sklearn.linear_model import LogisticRegression"
   ]
  },
  {
   "cell_type": "code",
   "execution_count": 16,
   "metadata": {},
   "outputs": [
    {
     "data": {
      "text/plain": [
       "LogisticRegression(C=1.0, class_weight=None, dual=False, fit_intercept=True,\n",
       "                   intercept_scaling=1, l1_ratio=None, max_iter=100,\n",
       "                   multi_class='auto', n_jobs=None, penalty='l2',\n",
       "                   random_state=None, solver='lbfgs', tol=0.0001, verbose=0,\n",
       "                   warm_start=False)"
      ]
     },
     "execution_count": 16,
     "metadata": {},
     "output_type": "execute_result"
    }
   ],
   "source": [
    "log = LogisticRegression()\n",
    "log.fit(X_train_new,y_train)"
   ]
  },
  {
   "cell_type": "code",
   "execution_count": 26,
   "metadata": {},
   "outputs": [
    {
     "name": "stdout",
     "output_type": "stream",
     "text": [
      "male\n",
      "male\n",
      "male\n",
      "male\n"
     ]
    }
   ],
   "source": [
    "img = cv2.imread('C:/Users/rawat/Downloads/first1.jpg')\n",
    "gray = cv2.cvtColor(img, cv2.COLOR_BGR2GRAY)\n",
    "face_model = cv2.CascadeClassifier('C:/Users/rawat/Desktop/dataset/haar/haarcascade_frontalface_default.xml')\n",
    "faces = face_model.detectMultiScale(gray)\n",
    "\n",
    "for x,y,w,h in faces:\n",
    "    face= gray[y:y+h, x:x+w]\n",
    "    #print(face)\n",
    "    face =cv2.resize(gray, (90,90))\n",
    "    face = face.flatten()\n",
    "    X_test =  pca.transform([face])\n",
    "    pred = log.predict(X_test)\n",
    "    print(pred[0])\n",
    "    cv2.rectangle(img, (x,y), (x+w, y+h), (0,0,220), 2)\n",
    "    cv2.putText(img, pred[0], (x,y-10), cv2.FONT_HERSHEY_PLAIN,2,(0,255,255),2)\n",
    "\n",
    "cv2.imshow('Prediction', img)\n",
    "cv2.waitKey(0)\n",
    "cv2.destroyAllWindows()"
   ]
  },
  {
   "cell_type": "code",
   "execution_count": null,
   "metadata": {},
   "outputs": [],
   "source": []
  }
 ],
 "metadata": {
  "kernelspec": {
   "display_name": "Python 3",
   "language": "python",
   "name": "python3"
  },
  "language_info": {
   "codemirror_mode": {
    "name": "ipython",
    "version": 3
   },
   "file_extension": ".py",
   "mimetype": "text/x-python",
   "name": "python",
   "nbconvert_exporter": "python",
   "pygments_lexer": "ipython3",
   "version": "3.7.6"
  }
 },
 "nbformat": 4,
 "nbformat_minor": 4
}
